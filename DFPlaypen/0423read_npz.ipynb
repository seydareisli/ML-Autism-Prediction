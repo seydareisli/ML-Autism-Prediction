{
 "cells": [
  {
   "cell_type": "code",
   "execution_count": 59,
   "metadata": {},
   "outputs": [],
   "source": [
    "import numpy as np"
   ]
  },
  {
   "cell_type": "code",
   "execution_count": 60,
   "metadata": {},
   "outputs": [],
   "source": [
    "folder='../shareddata/'\n",
    "fileb100 = folder+'ERPs-b100.npz' \n",
    "datb100_all = np.load(fileb100, allow_pickle=True)\n",
    "datb100_asd = datb100_all['ERPs_ASD']\n",
    "datb100_typ = datb100_all['ERPs_TYP']\n",
    "\n",
    "fileb50 = folder+'ERPs-b50.npz' \n",
    "datb50_all = np.load(fileb50, allow_pickle=True)\n",
    "datb50_asd = datb50_all['ERPs_ASD']\n",
    "datb50_typ = datb50_all['ERPs_TYP']\n",
    "\n",
    "filedat = folder+'ERPs.npz' \n",
    "data_all = np.load(filedat, allow_pickle=True)\n",
    "data_asd = data_all['ERPs_ASD']\n",
    "data_typ = data_all['ERPs_TYP']"
   ]
  },
  {
   "cell_type": "code",
   "execution_count": 65,
   "metadata": {},
   "outputs": [
    {
     "data": {
      "text/plain": [
       "['ERPs_ASD', 'ERPs_TYP']"
      ]
     },
     "execution_count": 65,
     "metadata": {},
     "output_type": "execute_result"
    }
   ],
   "source": [
    "list(data_all.keys())"
   ]
  },
  {
   "cell_type": "code",
   "execution_count": null,
   "metadata": {},
   "outputs": [],
   "source": []
  }
 ],
 "metadata": {
  "kernelspec": {
   "display_name": "Python 3",
   "language": "python",
   "name": "python3"
  },
  "language_info": {
   "codemirror_mode": {
    "name": "ipython",
    "version": 3
   },
   "file_extension": ".py",
   "mimetype": "text/x-python",
   "name": "python",
   "nbconvert_exporter": "python",
   "pygments_lexer": "ipython3",
   "version": "3.6.9"
  }
 },
 "nbformat": 4,
 "nbformat_minor": 4
}
