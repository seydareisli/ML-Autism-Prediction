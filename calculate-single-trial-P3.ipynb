{
 "cells": [
  {
   "cell_type": "code",
   "execution_count": null,
   "metadata": {},
   "outputs": [],
   "source": [
    "'''\n",
    "Script calculating the a P3 value from single trials for each channel (or for GFP)\n",
    "Generates a plot comparing the changes in amplitudes vs. in conditions over time\n",
    "'''"
   ]
  },
  {
   "cell_type": "code",
   "execution_count": 98,
   "metadata": {},
   "outputs": [],
   "source": [
    "import numpy as np\n",
    "import os\n",
    "import scipy.io as io\n",
    "import matplotlib.pyplot as plt\n",
    "\n",
    "def ms2time(ms1,ms2):\n",
    "    time1 = round(ms1/7.8125)+1;\n",
    "    time2 = round(ms2/7.8125)+1;\n",
    "    return list(range(time1, time2))\n",
    "\n",
    "def moving_average(a, n=3) :\n",
    "    ret = np.cumsum(a, dtype=float)\n",
    "    ret[n:] = ret[n:] - ret[:-n]\n",
    "    return ret[n - 1:] / n\n",
    "\n",
    "def find_outliers(data):\n",
    "    data_mean, data_std = np.mean(data), np.std(data)\n",
    "    cut_off = data_std * 3\n",
    "    lower, upper = data_mean - cut_off, data_mean + cut_off\n",
    "    outliers = [x for x in range(len(data)) if data[x] < lower or data[x] > upper]\n",
    "    return outliers\n"
   ]
  },
  {
   "cell_type": "code",
   "execution_count": 2,
   "metadata": {},
   "outputs": [
    {
     "data": {
      "text/plain": [
       "(160, 122, 6313)"
      ]
     },
     "execution_count": 2,
     "metadata": {},
     "output_type": "execute_result"
    }
   ],
   "source": [
    "directory_ ='/Users/seydanur/my-python/data/'\n",
    "subjectData = io.loadmat(directory_+'1106.mat')\n",
    "conds = subjectData['evConds']\n",
    "events = subjectData['events']\n",
    "ERPs = subjectData['ERPs']\n",
    "preStim= subjectData['preStim']"
   ]
  },
  {
   "cell_type": "code",
   "execution_count": 4,
   "metadata": {},
   "outputs": [],
   "source": [
    "baseline= np.mean(preStim,1)\n",
    "ERPs_nobase=np.zeros((122,160,ERPs.shape[2]),dtype=object)\n",
    "for t in range(122):\n",
    "    ERPs_nobase[t]=np.take(ERPs, t, axis=1)-baseline\n",
    "ERPs=ERPs_nobase.reshape(160,122,ERPs.shape[2])"
   ]
  },
  {
   "cell_type": "code",
   "execution_count": 5,
   "metadata": {},
   "outputs": [],
   "source": [
    "targetcodes=[13,16,23,26,33,36,43,46]\n",
    "ind_target = [] \n",
    "for i in range(0, len(events[0])) : \n",
    "    if events[0,i] in targetcodes : \n",
    "        ind_target.append(i) "
   ]
  },
  {
   "cell_type": "code",
   "execution_count": null,
   "metadata": {},
   "outputs": [],
   "source": [
    "ERPs=np.array(ERPs, dtype=np.float64)\n",
    "targERPs=np.take(ERPs,ind_target,axis=2)"
   ]
  },
  {
   "cell_type": "code",
   "execution_count": 14,
   "metadata": {},
   "outputs": [],
   "source": [
    "n_targ=targERPs.shape[2]\n",
    "targConds=np.take(conds,ind_target,axis=1)"
   ]
  },
  {
   "cell_type": "code",
   "execution_count": 185,
   "metadata": {},
   "outputs": [],
   "source": [
    "inds=np.array(range(n_targ)) # inds=np.array(range(n_targ-500,n_targ)) #take last 500 target trials \n",
    "Cs=np.take(targConds,inds)\n",
    "V=np.take(targERPs,inds,axis=2)\n",
    "GFP=np.std(V, axis=0)"
   ]
  },
  {
   "cell_type": "code",
   "execution_count": 186,
   "metadata": {},
   "outputs": [],
   "source": [
    "ch=19\n",
    "P3win=ms2time(230,530)\n",
    "V=np.mean(np.take(V[ch],P3win , axis=0),axis=0)\n",
    "#V2=np.mean(np.take(GFP, P3win, axis=0),axis=0)\n",
    "#V3=np.amax(np.take(GFP, P3win, axis=0),axis=0)\n",
    "#V4=np.amax(np.take(V[ch], P3win, axis=0),axis=0)\n",
    "V=np.delete(V,find_outliers(V))\n"
   ]
  },
  {
   "cell_type": "code",
   "execution_count": 187,
   "metadata": {},
   "outputs": [
    {
     "data": {
      "text/plain": [
       "<matplotlib.collections.PathCollection at 0x2b58a0cd0>"
      ]
     },
     "execution_count": 187,
     "metadata": {},
     "output_type": "execute_result"
    },
    {
     "data": {
      "image/png": "[encoded data removed]",
      "text/plain": [
       "<Figure size 432x288 with 1 Axes>"
      ]
     },
     "metadata": {
      "needs_background": "light"
     },
     "output_type": "display_data"
    }
   ],
   "source": [
    "winSize=30\n",
    "dotSize=len(y)/300\n",
    "plt.rcParams[\"figure.figsize\"] = [20,10]\n",
    "y=moving_average(S19mn,n=winSize)\n",
    "plt.scatter(range(len(y)),y,dotSize)\n",
    "yC=moving_average(Cs,n=winSize)\n",
    "plt.scatter(range(len(yC)),yC,dotSize)"
   ]
  }
 ],
 "metadata": {
  "kernelspec": {
   "display_name": "Python 3",
   "language": "python",
   "name": "python3"
  },
  "language_info": {
   "codemirror_mode": {
    "name": "ipython",
    "version": 3
   },
   "file_extension": ".py",
   "mimetype": "text/x-python",
   "name": "python",
   "nbconvert_exporter": "python",
   "pygments_lexer": "ipython3",
   "version": "3.7.4"
  }
 },
 "nbformat": 4,
 "nbformat_minor": 4
}
