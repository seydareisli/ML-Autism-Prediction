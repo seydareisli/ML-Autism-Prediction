{
 "cells": [
  {
   "cell_type": "code",
   "execution_count": null,
   "metadata": {},
   "outputs": [],
   "source": [
    "import numpy as np\n",
    "import os\n",
    "import scipy.io as io"
   ]
  },
  {
   "cell_type": "code",
   "execution_count": null,
   "metadata": {},
   "outputs": [],
   "source": [
    "directory_ = 'shareddata/Project_ASD/clean-trials/'\n",
    "groups = ['Autism', 'Neurotypical']"
   ]
  },
  {
   "cell_type": "code",
   "execution_count": null,
   "metadata": {},
   "outputs": [],
   "source": [
    "subjects=np.empty((0,3),int) # group ind, subject ind, subject ID - e.g.['0' '5' '1888']\n",
    "\n",
    "s=0\n",
    "for g in range((len(groups))):\n",
    "    list_gsubj = list(os.listdir(directory_+'/'+groups[g]))\n",
    "    for subject in list_gsubj:\n",
    "        if subject[0]=='1':\n",
    "            subjects = np.append(subjects,[[g,s,subject]], axis=0)\n",
    "            s+=1\n",
    "n_subj=subjects.shape[0]"
   ]
  },
  {
   "cell_type": "code",
   "execution_count": null,
   "metadata": {},
   "outputs": [],
   "source": [
    "trialTypes=['item1','item2','target','invalidThird','correct','catch','easyFiller','ctrlFiller'];\n",
    "#trialTypes=['target','catch'];\n",
    "\n",
    "ERPs = np.zeros((n_subj,len(trialTypes),4), dtype=object)\n",
    "\n",
    "for g,s,subject in subjects:\n",
    "    for j in range(4):\n",
    "        for k in range(len(trialTypes)):\n",
    "            file_name = trialTypes[k]+'-C'+str(j+1)+'.mat'\n",
    "            file_path = os.path.join(directory_,groups[int(g)],subject,'divided')\n",
    "            load_ = io.loadmat(file_path+'/'+file_name)\n",
    "            data=load_['data'] \n",
    "            ERPs[int(s),k,j] = data\n"
   ]
  },
  {
   "cell_type": "code",
   "execution_count": null,
   "metadata": {},
   "outputs": [],
   "source": [
    "save_directory= '/home/data/Project_ASD/' + os.environ[\"USER\"]\n",
    "np.savez(save_directory+'/ERPs.npz',ERPs=ERPs,subjects=subjects)"
   ]
  },
  {
   "cell_type": "code",
   "execution_count": null,
   "metadata": {},
   "outputs": [],
   "source": []
  },
  {
   "cell_type": "code",
   "execution_count": null,
   "metadata": {},
   "outputs": [],
   "source": []
  },
  {
   "cell_type": "code",
   "execution_count": null,
   "metadata": {},
   "outputs": [],
   "source": []
  },
  {
   "cell_type": "code",
   "execution_count": null,
   "metadata": {},
   "outputs": [],
   "source": [
    "# dat_asd[0,0,0].shape"
   ]
  },
  {
   "cell_type": "code",
   "execution_count": null,
   "metadata": {},
   "outputs": [],
   "source": [
    "# for i in range(4):\n",
    "#     print(dat_asd[0,0,i]['data'].shape)"
   ]
  },
  {
   "cell_type": "code",
   "execution_count": null,
   "metadata": {},
   "outputs": [],
   "source": [
    "# dat_asd[0,0,i]['baseline100']#.shape"
   ]
  },
  {
   "cell_type": "code",
   "execution_count": null,
   "metadata": {},
   "outputs": [],
   "source": [
    "# OLD\n",
    "\n",
    "\"\"\"\n",
    "Saving conditions separately and labeling asd vs typical \n",
    "groups are here to perform cross-validation by excluding participants\n",
    "and not trial at random: we like te predict asd or not for individuals.\n",
    "\"\"\"\n",
    "ERPs = np.zeros((4), dtype=object)\n",
    "groups = np.zeros((4), dtype=object) \n",
    "asd = np.zeros((4), dtype=object)\n",
    "\n",
    "for i in range(4):\n",
    "    for j in range(n_asd):\n",
    "        conds = dat_asd[j]['evConds'][0]==i+1\n",
    "        if j == 0:\n",
    "            ERPs[i] = dat_asd[j]['ERPs'][:,:,conds]\n",
    "            groups[i] = j*np.ones(conds.sum())\n",
    "            asd[i] = np.ones(conds.sum())\n",
    "        else:\n",
    "            ERPs[i] = np.concatenate((ERPs[i],dat_asd[j]['ERPs'][:,:,conds]),\n",
    "                                     axis=2)\n",
    "            groups[i] = np.concatenate((groups[i],j*np.ones(conds.sum())))\n",
    "            asd[i] = np.concatenate((asd[i], np.ones(conds.sum())))\n",
    "            \n",
    "    for j in range(n_typical):\n",
    "        conds = dat_typical[j]['evConds'][0]==i+1\n",
    "        ERPs[i] = np.concatenate((ERPs[i],dat_typical[j]['ERPs'][:,:,conds]),\n",
    "                                 axis=2)\n",
    "        groups[i] = np.concatenate((groups[i],(n_asd+j)*np.ones(conds.sum())))\n",
    "        asd[i] = np.concatenate((asd[i], np.zeros(conds.sum())))"
   ]
  },
  {
   "cell_type": "code",
   "execution_count": null,
   "metadata": {},
   "outputs": [],
   "source": [
    "save_directory= '/home/data/Project_ASD/' + os.environ[\"USER\"]\n",
    "np.savez(save_directory+'ERPs.npz', ERPs_C0=ERPs[0], ERPs_C1=ERPs[1], ERPs_C2=ERPs[2],\n",
    "         ERPs_C3=ERPs[3], groups=groups, asd=asd)"
   ]
  },
  {
   "cell_type": "code",
   "execution_count": null,
   "metadata": {},
   "outputs": [],
   "source": [
    "# help(np.savez)"
   ]
  },
  {
   "cell_type": "code",
   "execution_count": null,
   "metadata": {},
   "outputs": [],
   "source": []
  },
  {
   "cell_type": "code",
   "execution_count": null,
   "metadata": {},
   "outputs": [],
   "source": []
  },
  {
   "cell_type": "code",
   "execution_count": null,
   "metadata": {},
   "outputs": [],
   "source": []
  }
 ],
 "metadata": {
  "kernelspec": {
   "display_name": "Python 3",
   "language": "python",
   "name": "python3"
  },
  "language_info": {
   "codemirror_mode": {
    "name": "ipython",
    "version": 3
   },
   "file_extension": ".py",
   "mimetype": "text/x-python",
   "name": "python",
   "nbconvert_exporter": "python",
   "pygments_lexer": "ipython3",
   "version": "3.6.9"
  }
 },
 "nbformat": 4,
 "nbformat_minor": 4
}
