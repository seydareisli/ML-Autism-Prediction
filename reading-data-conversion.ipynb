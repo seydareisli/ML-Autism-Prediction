{
 "cells": [
  {
   "cell_type": "code",
   "execution_count": 1,
   "metadata": {},
   "outputs": [],
   "source": [
    "import numpy as np\n",
    "import os\n",
    "import scipy.io as io"
   ]
  },
  {
   "cell_type": "code",
   "execution_count": 2,
   "metadata": {},
   "outputs": [],
   "source": [
    "directory_asd = 'shareddata/3Dmat4ML/Autism/'\n",
    "directory_typical = 'shareddata/3Dmat4ML/Neurotypical/'"
   ]
  },
  {
   "cell_type": "code",
   "execution_count": 3,
   "metadata": {},
   "outputs": [],
   "source": [
    "list_dir_asd = list(os.listdir(directory_asd))\n",
    "list_dir_typical = list(os.listdir(directory_typical))\n",
    "n_asd = len(list_dir_asd) \n",
    "n_typical = len(list_dir_typical) \n",
    "dat_asd = np.zeros(len(list_dir_asd), dtype=object)\n",
    "dat_typical = np.zeros(len(list_dir_typical), dtype=object)\n",
    "i = 0\n",
    "for filename in list_dir_asd:\n",
    "    dat_asd[i] = io.loadmat(directory_asd+filename)\n",
    "    i+=1\n",
    "i = 0\n",
    "for filename in list_dir_typical:\n",
    "    dat_typical[i] = io.loadmat(directory_typical+filename)\n",
    "    i+=1"
   ]
  },
  {
   "cell_type": "code",
   "execution_count": 4,
   "metadata": {},
   "outputs": [],
   "source": [
    "\"\"\"\n",
    "Saving conditions separately and labeling asd vs typical \n",
    "groups are here to perform cross-validation by excluding participants\n",
    "and not trial at random: we like te predict asd or not for individuals.\n",
    "\"\"\"\n",
    "ERPs = np.zeros((4), dtype=object)\n",
    "groups = np.zeros((4), dtype=object) \n",
    "asd = np.zeros((4), dtype=object)\n",
    "\n",
    "for i in range(4):\n",
    "    for j in range(n_asd):\n",
    "        conds = dat_asd[j]['evConds'][0]==i+1\n",
    "        if j == 0:\n",
    "            ERPs[i] = dat_asd[j]['ERPs'][:,:,conds]\n",
    "            groups[i] = j*np.ones(conds.sum())\n",
    "            asd[i] = np.ones(conds.sum())\n",
    "        else:\n",
    "            ERPs[i] = np.concatenate((ERPs[i],dat_asd[j]['ERPs'][:,:,conds]),\n",
    "                                     axis=2)\n",
    "            groups[i] = np.concatenate((groups[i],j*np.ones(conds.sum())))\n",
    "            asd[i] = np.concatenate((asd[i], np.ones(conds.sum())))\n",
    "            \n",
    "    for j in range(n_typical):\n",
    "        conds = dat_typical[j]['evConds'][0]==i+1\n",
    "        ERPs[i] = np.concatenate((ERPs[i],dat_typical[j]['ERPs'][:,:,conds]),\n",
    "                                 axis=2)\n",
    "        groups[i] = np.concatenate((groups[i],(n_asd+j)*np.ones(conds.sum())))\n",
    "        asd[i] = np.concatenate((asd[i], np.zeros(conds.sum())))"
   ]
  },
  {
   "cell_type": "code",
   "execution_count": 12,
   "metadata": {},
   "outputs": [],
   "source": [
    "save_directory = 'shareddata/3Dmat4ML/'\n",
    "np.savez(save_directory+'ERPs.npz', ERPs_C0=ERPs[0], ERPs_C1=ERPs[1], ERPs_C2=ERPs[2],\n",
    "         ERPs_C3=ERPs[3], groups=groups, asd=asd)"
   ]
  },
  {
   "cell_type": "code",
   "execution_count": 11,
   "metadata": {},
   "outputs": [],
   "source": [
    "# help(np.savez)"
   ]
  },
  {
   "cell_type": "code",
   "execution_count": null,
   "metadata": {},
   "outputs": [],
   "source": []
  },
  {
   "cell_type": "code",
   "execution_count": null,
   "metadata": {},
   "outputs": [],
   "source": []
  },
  {
   "cell_type": "code",
   "execution_count": null,
   "metadata": {},
   "outputs": [],
   "source": []
  }
 ],
 "metadata": {
  "kernelspec": {
   "display_name": "Python 3",
   "language": "python",
   "name": "python3"
  },
  "language_info": {
   "codemirror_mode": {
    "name": "ipython",
    "version": 3
   },
   "file_extension": ".py",
   "mimetype": "text/x-python",
   "name": "python",
   "nbconvert_exporter": "python",
   "pygments_lexer": "ipython3",
   "version": "3.6.8"
  }
 },
 "nbformat": 4,
 "nbformat_minor": 4
}
