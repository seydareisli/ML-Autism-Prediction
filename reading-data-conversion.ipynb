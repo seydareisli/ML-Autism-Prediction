{
 "cells": [
  {
   "cell_type": "code",
   "execution_count": null,
   "metadata": {},
   "outputs": [],
   "source": [
    "import numpy as np\n",
    "import os\n",
    "import scipy.io as io"
   ]
  },
  {
   "cell_type": "code",
   "execution_count": null,
   "metadata": {},
   "outputs": [],
   "source": [
    "directory_asd = 'shareddata/Project_ASD/clean-trials/Autism/'\n",
    "directory_typical = 'shareddata/Project_ASD/clean-trials/Neurotypical/'\n",
    "sub_dir = '/divided/'"
   ]
  },
  {
   "cell_type": "code",
   "execution_count": null,
   "metadata": {},
   "outputs": [],
   "source": [
    "list_dir_asd = list(os.listdir(directory_asd))\n",
    "list_dir_typical = list(os.listdir(directory_typical))\n",
    "n_asd = len(list_dir_asd)-1 \n",
    "n_typical = len(list_dir_typical)-1 \n",
    "dat_asd = np.zeros((n_asd,2,4), dtype=object)\n",
    "dat_typical = np.zeros((n_typical,2,4), dtype=object)\n",
    "i = 0\n",
    "for folder_name in list_dir_asd:\n",
    "    if folder_name[0]!='a':\n",
    "        for j in range(4):\n",
    "            file_name_c = 'catch-C'+str(j+1)+'.mat'\n",
    "            file_name_t = 'target-C'+str(j+1)+'.mat'\n",
    "            load_c = io.loadmat(directory_asd+folder_name\n",
    "                                        +sub_dir+file_name_c)\n",
    "            load_t = io.loadmat(directory_asd+folder_name\n",
    "                                        +sub_dir+file_name_t)\n",
    "            # catch\n",
    "            dat_asd[i,0,j] = load_c['data']#\\\n",
    "                            #- load_c['baseline50'][:,np.newaxis]\n",
    "            # target\n",
    "            dat_asd[i,1,j] = load_t['data']#\\\n",
    "                            #- load_t['baseline50'][:,np.newaxis]\n",
    "        i+=1\n",
    "i = 0\n",
    "for folder_name in list_dir_typical:\n",
    "    if folder_name[0]!='a':\n",
    "        for j in range(4):\n",
    "            file_name_c = 'catch-C'+str(j+1)+'.mat'\n",
    "            file_name_t = 'target-C'+str(j+1)+'.mat'\n",
    "            load_c = io.loadmat(directory_typical+folder_name\n",
    "                                            +sub_dir+file_name_c)\n",
    "            load_t = io.loadmat(directory_typical+folder_name\n",
    "                                            +sub_dir+file_name_t)\n",
    "            # catch\n",
    "            dat_typical[i,0,j] = load_c['data']#\\\n",
    "                                #- load_c['baseline50'][:,np.newaxis]\n",
    "            # target\n",
    "            dat_typical[i,1,j] = load_t['data']#\\\n",
    "                                #- load_t['baseline50'][:,np.newaxis]\n",
    "        i+=1"
   ]
  },
  {
   "cell_type": "code",
   "execution_count": null,
   "metadata": {},
   "outputs": [],
   "source": [
    "save_directory = 'shareddata/Project_ASD/'\n",
    "np.savez(save_directory+'ERPs.npz',\n",
    "         ERPs_ASD=dat_asd, ERPs_TYP=dat_typical)"
   ]
  },
  {
   "cell_type": "code",
   "execution_count": null,
   "metadata": {},
   "outputs": [],
   "source": []
  },
  {
   "cell_type": "code",
   "execution_count": null,
   "metadata": {},
   "outputs": [],
   "source": []
  },
  {
   "cell_type": "code",
   "execution_count": null,
   "metadata": {},
   "outputs": [],
   "source": []
  },
  {
   "cell_type": "code",
   "execution_count": null,
   "metadata": {},
   "outputs": [],
   "source": [
    "# dat_asd[0,0,0].shape"
   ]
  },
  {
   "cell_type": "code",
   "execution_count": null,
   "metadata": {},
   "outputs": [],
   "source": [
    "# for i in range(4):\n",
    "#     print(dat_asd[0,0,i]['data'].shape)"
   ]
  },
  {
   "cell_type": "code",
   "execution_count": null,
   "metadata": {},
   "outputs": [],
   "source": [
    "# dat_asd[0,0,i]['baseline100']#.shape"
   ]
  },
  {
   "cell_type": "code",
   "execution_count": null,
   "metadata": {},
   "outputs": [],
   "source": [
    "# OLD\n",
    "\n",
    "\"\"\"\n",
    "Saving conditions separately and labeling asd vs typical \n",
    "groups are here to perform cross-validation by excluding participants\n",
    "and not trial at random: we like te predict asd or not for individuals.\n",
    "\"\"\"\n",
    "ERPs = np.zeros((4), dtype=object)\n",
    "groups = np.zeros((4), dtype=object) \n",
    "asd = np.zeros((4), dtype=object)\n",
    "\n",
    "for i in range(4):\n",
    "    for j in range(n_asd):\n",
    "        conds = dat_asd[j]['evConds'][0]==i+1\n",
    "        if j == 0:\n",
    "            ERPs[i] = dat_asd[j]['ERPs'][:,:,conds]\n",
    "            groups[i] = j*np.ones(conds.sum())\n",
    "            asd[i] = np.ones(conds.sum())\n",
    "        else:\n",
    "            ERPs[i] = np.concatenate((ERPs[i],dat_asd[j]['ERPs'][:,:,conds]),\n",
    "                                     axis=2)\n",
    "            groups[i] = np.concatenate((groups[i],j*np.ones(conds.sum())))\n",
    "            asd[i] = np.concatenate((asd[i], np.ones(conds.sum())))\n",
    "            \n",
    "    for j in range(n_typical):\n",
    "        conds = dat_typical[j]['evConds'][0]==i+1\n",
    "        ERPs[i] = np.concatenate((ERPs[i],dat_typical[j]['ERPs'][:,:,conds]),\n",
    "                                 axis=2)\n",
    "        groups[i] = np.concatenate((groups[i],(n_asd+j)*np.ones(conds.sum())))\n",
    "        asd[i] = np.concatenate((asd[i], np.zeros(conds.sum())))"
   ]
  },
  {
   "cell_type": "code",
   "execution_count": null,
   "metadata": {},
   "outputs": [],
   "source": [
    "save_directory = 'shareddata/3Dmat4ML/'\n",
    "np.savez(save_directory+'ERPs.npz', ERPs_C0=ERPs[0], ERPs_C1=ERPs[1], ERPs_C2=ERPs[2],\n",
    "         ERPs_C3=ERPs[3], groups=groups, asd=asd)"
   ]
  },
  {
   "cell_type": "code",
   "execution_count": null,
   "metadata": {},
   "outputs": [],
   "source": [
    "# help(np.savez)"
   ]
  },
  {
   "cell_type": "code",
   "execution_count": null,
   "metadata": {},
   "outputs": [],
   "source": []
  },
  {
   "cell_type": "code",
   "execution_count": null,
   "metadata": {},
   "outputs": [],
   "source": []
  },
  {
   "cell_type": "code",
   "execution_count": null,
   "metadata": {},
   "outputs": [],
   "source": []
  }
 ],
 "metadata": {
  "kernelspec": {
   "display_name": "Python 3",
   "language": "python",
   "name": "python3"
  },
  "language_info": {
   "codemirror_mode": {
    "name": "ipython",
    "version": 3
   },
   "file_extension": ".py",
   "mimetype": "text/x-python",
   "name": "python",
   "nbconvert_exporter": "python",
   "pygments_lexer": "ipython3",
   "version": "3.6.9"
  }
 },
 "nbformat": 4,
 "nbformat_minor": 4
}
