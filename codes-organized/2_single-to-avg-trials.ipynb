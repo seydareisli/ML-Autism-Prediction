{
 "cells": [
  {
   "cell_type": "code",
   "execution_count": null,
   "metadata": {},
   "outputs": [],
   "source": [
    "%%timeit\n",
    "# average each unique condition over trials, put them all together\n",
    "# mean is over the third index (trials), then stack them together, using third index squeezed to 1,\n",
    "# so it becomes the total number of subjects\n",
    "# the + concatenates the lists\n",
    "X_all = np.zeros((2,4,n_asd+n_typ,n_t,n_elec)) # catch/target | C1/C2/C3/C4\n",
    "for k in range(4):\n",
    "    X_all[0,k] = np.concatenate([X_asd_[i,0,k].mean(2, keepdims=True)\n",
    "                                 for i in range(n_asd)]+\n",
    "                                [X_typ_[i,0,k].mean(2, keepdims=True)\n",
    "                                 for i in range(n_typ)],2).T\n",
    "    X_all[1,k] = np.concatenate([X_asd_[i,1,k].mean(2, keepdims=True)\n",
    "                                 for i in range(n_asd)]+\n",
    "                                [X_typ_[i,1,k].mean(2, keepdims=True)\n",
    "                                 for i in range(n_typ)],2).T\n",
    "# Find the subjects that do not have any NaN    \n",
    "idx = np.isnan(X_all.mean((0,1,3,4)))==False\n",
    "X_all = X_all[:,:,idx]\n"
   ]
  }
 ],
 "metadata": {
  "kernelspec": {
   "display_name": "Python 3",
   "language": "python",
   "name": "python3"
  },
  "language_info": {
   "codemirror_mode": {
    "name": "ipython",
    "version": 3
   },
   "file_extension": ".py",
   "mimetype": "text/x-python",
   "name": "python",
   "nbconvert_exporter": "python",
   "pygments_lexer": "ipython3",
   "version": "3.6.9"
  }
 },
 "nbformat": 4,
 "nbformat_minor": 4
}
