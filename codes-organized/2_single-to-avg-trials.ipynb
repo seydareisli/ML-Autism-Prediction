{
 "cells": [
  {
   "cell_type": "code",
   "execution_count": 1,
   "metadata": {},
   "outputs": [],
   "source": [
    "import numpy as np\n",
    "import scipy.io as io\n",
    "import pandas as pd\n",
    "import sys\n",
    "import os"
   ]
  },
  {
   "cell_type": "code",
   "execution_count": 2,
   "metadata": {},
   "outputs": [],
   "source": [
    "directory = '/home/data/Project_ASD/' + os.environ[\"USER\"]+'/' #feel free to upload data from /Project_ASD/seyda\n",
    "filename = 'ERPs-baseline50float16.npz'\n",
    "data = np.load(directory+filename, allow_pickle=True)\n",
    "ERPs = data['ERPs'] \n",
    "subjects = data['subjects'] "
   ]
  },
  {
   "cell_type": "code",
   "execution_count": 3,
   "metadata": {},
   "outputs": [],
   "source": [
    "assert len(subjects)==ERPs.shape[0]"
   ]
  },
  {
   "cell_type": "code",
   "execution_count": 24,
   "metadata": {},
   "outputs": [
    {
     "name": "stderr",
     "output_type": "stream",
     "text": [
      "/home/seyda/.local/lib/python3.6/site-packages/ipykernel_launcher.py:9: RuntimeWarning: Mean of empty slice.\n",
      "  if __name__ == '__main__':\n"
     ]
    }
   ],
   "source": [
    "n_subj, n_trtype, n_conds = ERPs.shape\n",
    "n_time, n_elec, _ = ERPs[0][0][0].shape\n",
    "X_all = np.zeros((n_trtype,n_conds,n_subj,n_time,n_elec),dtype=object) \n",
    "for k in range(n_conds):\n",
    "    for r in range(n_trtype): \n",
    "        #print(r)\n",
    "        for s in range(n_subj):\n",
    "            ERPs1=ERPs[s,r,k].astype('float16') \n",
    "            arr=np.squeeze(ERPs1.mean(2, keepdims=True))\n",
    "            #n_trials is gone\n",
    "            for t in range(n_time):\n",
    "                for e in range(n_elec):\n",
    "                    val=arr[t,e]\n",
    "                    val= round(val, 2) \n",
    "                    X_all[r,k,s][t,e]=val\n"
   ]
  }
 ],
 "metadata": {
  "kernelspec": {
   "display_name": "Python 3",
   "language": "python",
   "name": "python3"
  },
  "language_info": {
   "codemirror_mode": {
    "name": "ipython",
    "version": 3
   },
   "file_extension": ".py",
   "mimetype": "text/x-python",
   "name": "python",
   "nbconvert_exporter": "python",
   "pygments_lexer": "ipython3",
   "version": "3.6.9"
  }
 },
 "nbformat": 4,
 "nbformat_minor": 4
}
