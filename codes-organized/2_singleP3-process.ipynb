{
 "cells": [
  {
   "cell_type": "code",
   "execution_count": null,
   "metadata": {},
   "outputs": [],
   "source": [
    "import numpy as np\n",
    "import scipy.io as io\n",
    "import pandas as pd\n",
    "import sys\n",
    "import os"
   ]
  },
  {
   "cell_type": "code",
   "execution_count": null,
   "metadata": {},
   "outputs": [],
   "source": [
    "directory = '/home/data/Project_ASD/' + os.environ[\"USER\"]+'/' #feel free to upload data from /Project_ASD/seyda\n",
    "data = np.load(directory+'targetP3s_equal.npz', allow_pickle=True)\n",
    "targetP3s_equal = data['targetP3s_equal']\n",
    "targetP3s_equal = data['targetP3s_equal']\n",
    "subjects = data['subjects']\n",
    "n_subj,n_elec,n_trials=targetP3s_equal.shape\n"
   ]
  },
  {
   "cell_type": "code",
   "execution_count": null,
   "metadata": {},
   "outputs": [],
   "source": [
    "#save a moving average figure for each subject \n",
    "\n",
    "fig_dir = directory+ '/single-trial-figures/'\n",
    "for g,s,subject in subjects:\n",
    "    P3s=targetP3s[int(s),0]\n",
    "    conds=targetP3s[int(s),1]\n",
    "\n",
    "    subject=subject[:-4]\n",
    "    GFP=np.std(P3s, axis=0)\n",
    "    winSize=30\n",
    "    y=moving_average(GFP, n=winSize)\n",
    "\n",
    "    dotSize=len(y)/300\n",
    "    plt.close()\n",
    "    plt.rcParams[\"figure.figsize\"] = [20,10]\n",
    "\n",
    "    plt.scatter(range(len(y)),y,dotSize)\n",
    "\n",
    "    yC=moving_average(conds, n=winSize)\n",
    "    plt.scatter(range(len(yC)),yC,dotSize)\n",
    "    plt.title(subject)\n",
    "    plt.ylim(0,7)\n",
    "    plt.savefig(fig_dir+'P3-'+subject+'.png')\n",
    "    \n"
   ]
  },
  {
   "cell_type": "code",
   "execution_count": null,
   "metadata": {},
   "outputs": [],
   "source": [
    "#In the first two sessions, we have: C 1 2 3 4 1. Say 1a 2 3 4 1b\n",
    "indC12341=np.empty((subjects.shape[0],6),int)\n",
    "ind_exclude_subjects=[]\n",
    "for s in range(subjects.shape[0]):\n",
    "    #P3s=targetP3s[int(s),0]\n",
    "    conds=targetP3s[s,1]\n",
    "    ind_C1a=np.where(conds == 1)[0][0]\n",
    "    ind_C2=np.where(conds == 2)[0][0]\n",
    "    ind_C3=np.where(conds == 3)[0][0]\n",
    "    ind_C4=np.where(conds == 4)[0][0]\n",
    "    ind_C1b=ind_C4+np.where(conds[ind_C4:] == 1)[0][0]\n",
    "    ind_ses3=ind_C1b+np.where(conds[ind_C1b:]!= 1)[0][0] #index of where ses3 starts in target array \n",
    "    indC12341[s,]=[ind_C1a,ind_C2,ind_C3,ind_C4,ind_C1b,ind_ses3]\n",
    "    #print(subject,ind_C1a,ind_C2,ind_C3,ind_C4,ind_C1b,ind_ses3)\n",
    "    try:\n",
    "        assert ind_C1a<ind_C2<ind_C3<ind_C4<ind_C1b<ind_ses3\n",
    "    except AssertionError:\n",
    "        ind_exclude_subjects.append(int(s))\n",
    "print('subject indices to exclude based on design of session 1 and 2: '+str(ind_exclude_subjects))\n",
    "\n"
   ]
  },
  {
   "cell_type": "code",
   "execution_count": null,
   "metadata": {},
   "outputs": [],
   "source": [
    "#select eequal number of trials for each \n",
    "num_trials=np.round((np.mean(np.diff(indC12341),axis=0)-np.std(np.diff(indC12341),axis=0)),0)\n",
    "num_trials"
   ]
  },
  {
   "cell_type": "code",
   "execution_count": null,
   "metadata": {},
   "outputs": [],
   "source": [
    "#select eequal number of trials for each \n",
    "\n",
    "targetP3s_equal=np.empty((subjects.shape[0],160,int(sum(num_trials))),dtype=float) #(41, 160, 380)\n",
    "for s in range(subjects.shape[0]):\n",
    "    #for C1, donnt include the first trials they are just training \n",
    "    interval=np.arange(20,indC12341[s,1],1)\n",
    "    if len(interval)>num_trials[0]:\n",
    "        inds=sorted(np.random.choice(interval,int(num_trials[0]), replace=False))\n",
    "    else:\n",
    "        dfrnc=int(num_trials[0]-len(interval))\n",
    "        inds=sorted(np.append(interval,np.random.choice(interval,dfrnc, replace=False)))\n",
    "\n",
    "    #for other conditions\n",
    "    for c in range(1,5):\n",
    "        interval=np.arange(indC12341[s,c],indC12341[s,c+1],1)\n",
    "        if len(interval)>num_trials[c]:\n",
    "            ind=sorted(np.random.choice(interval,int(num_trials[c]), replace=False))\n",
    "        else:\n",
    "            dfrnc=int(num_trials[c]-len(interval))\n",
    "            ind=sorted(np.append(interval,np.random.choice(interval,dfrnc, replace=True)))\n",
    "        inds=np.append(inds,ind)\n",
    "    targetP3s_equal[s,]=targetP3s[s,0][:,inds]\n",
    "\n",
    "\n",
    "    #argetP3s_equal[s,0:num_trials[1]]=targetP3s[s,c]\n",
    "    #nd\n",
    "    #arr=np.arange(indC12341[s,c],indC12341[s,c+1],1)\n",
    "    #ind=sorted(np.random.choice(arr,int(num_trials[c]), replace=False) )\n",
    "    #targetP3s_equal[s,]="
   ]
  },
  {
   "cell_type": "code",
   "execution_count": null,
   "metadata": {},
   "outputs": [],
   "source": [
    "#Save your results \n",
    "directory = '/home/data/Project_ASD/' + os.environ[\"USER\"]+'/' #feel free to upload data from /Project_ASD/seyda\n",
    "np.savez(directory+'targetP3s_equal.npz', targetP3s_equal=targetP3s_equal, subjects=subjects)\n"
   ]
  },
  {
   "cell_type": "code",
   "execution_count": null,
   "metadata": {},
   "outputs": [],
   "source": [
    "def nan_helper(y):\n",
    "    \"\"\"Helper to handle indices and logical indices of NaNs.\n",
    "\n",
    "    Input:\n",
    "        - y, 1d numpy array with possible NaNs\n",
    "    Output:\n",
    "        - nans, logical indices of NaNs\n",
    "        - index, a function, with signature indices= index(logical_indices),\n",
    "          to convert logical indices of NaNs to 'equivalent' indices\n",
    "    Example:\n",
    "        >>> # linear interpolation of NaNs\n",
    "        >>> nans, x= nan_helper(y)\n",
    "        >>> y[nans]= np.interp(x(nans), x(~nans), y[~nans])\n",
    "    \"\"\"\n",
    "\n",
    "    return np.isnan(y), lambda z: z.nonzero()[0]"
   ]
  },
  {
   "cell_type": "code",
   "execution_count": null,
   "metadata": {},
   "outputs": [],
   "source": [
    "data = np.load(directory+'targetP3s_equal.npz', allow_pickle=True)\n",
    "targetP3s_equal = data['targetP3s_equal']\n",
    "subjects = data['subjects']\n",
    "n_subj,n_elec,n_trials=targetP3s_equal.shape"
   ]
  },
  {
   "cell_type": "code",
   "execution_count": null,
   "metadata": {},
   "outputs": [],
   "source": [
    "#remove outlier subjects\n",
    "o=[]\n",
    "for t in range(n_trials):\n",
    "    for e in range(n_subj):\n",
    "        y=targetP3s_equal[:,e,t]\n",
    "        o.append(find_outliers(y))\n",
    "#print(sorted(o))\n",
    "out_subj=[4,31]\n",
    "targetP3s_equal=np.delete(targetP3s_equal, out_subj, axis=0)\n",
    "subjects=np.delete(subjects, out_subj, axis=0)\n",
    "\n",
    "#nans, x= nan_helper(y)\n",
    "#y[nans]= np.interp(x(nans), x(~nans), y[~nans])\n",
    "#targetP3s_equal[s,e]=y\n"
   ]
  },
  {
   "cell_type": "code",
   "execution_count": null,
   "metadata": {},
   "outputs": [],
   "source": [
    "#take group means\n",
    "ind_asd=np.where(subjects[:,0]=='0')\n",
    "ind_nt=np.where(subjects[:,0]=='1')\n",
    "\n",
    "u_asd=np.mean(targetP3s_equal[ind_asd],axis=0)\n",
    "u_nt=np.mean(targetP3s_equal[ind_nt],axis=0)\n",
    "\n",
    "#u_asd_gfp=u_asd[19]\n",
    "#u_nt_gfp=u_nt[19]\n",
    "u_asd_gfp=np.std(u_asd, axis=0)\n",
    "u_nt_gfp=np.std(u_nt, axis=0)\n",
    "\n",
    "u_asd_gfp[find_outliers(u_asd_gfp)]=np.nan\n",
    "u_nt_gfp[find_outliers(u_nt_gfp)]=np.nan\n",
    "\n",
    "nans, x= nan_helper(u_asd_gfp)\n",
    "u_asd_gfp[nans]= np.interp(x(nans), x(~nans), u_asd_gfp[~nans])\n",
    "\n",
    "nans, x= nan_helper(u_nt_gfp)\n",
    "u_nt_gfp[nans]= np.interp(x(nans), x(~nans), u_nt_gfp[~nans])\n",
    "\n"
   ]
  },
  {
   "cell_type": "code",
   "execution_count": null,
   "metadata": {},
   "outputs": [],
   "source": [
    "#calculate conditions to plot \n",
    "num_trials=num_trials.astype(int)\n",
    "n1a,n2,n3,n4,n1b=num_trials\n",
    "conds=np.concatenate((np.zeros(n1a)+1,np.zeros(n2)+2,np.zeros(n3)+3,np.zeros(n4)+4,np.zeros(n1b)+1),axis=0)"
   ]
  },
  {
   "cell_type": "code",
   "execution_count": null,
   "metadata": {},
   "outputs": [],
   "source": [
    "\n",
    "winSize=30\n",
    "y_asd=moving_average(u_asd_gfp, n=winSize)\n",
    "y_nt=moving_average(u_nt_gfp, n=winSize)\n",
    "\n",
    "dotSize=len(y_asd)/30\n",
    "plt.close()\n",
    "plt.rcParams[\"figure.figsize\"] = [20,10]\n",
    "\n",
    "plt.scatter(range(len(y_nt )),y_nt ,dotSize)\n",
    "plt.scatter(range(len(y_asd)),y_asd,dotSize)\n",
    "plt.scatter(range(len(conds)),conds/2,dotSize)\n",
    "title='Target P3 GFP amplitudes of single trials during Session 1 & 2 averaged for groups'\n",
    "#title='Target P3 amplitudes of single trials at Ch19 during Session 1 & 2 averaged for groups'\n",
    "plt.title(title)\n",
    "plt.savefig(fig_dir+'P3-'+title+'.png')\n",
    "\n",
    "#plt.ylim(0,14)\n"
   ]
  },
  {
   "cell_type": "code",
   "execution_count": null,
   "metadata": {},
   "outputs": [],
   "source": [
    "from scipy.signal import find_peaks\n",
    "for s in range(subjects.shape[0]):\n",
    "    peaks, _ = find_peaks(x, prominence=1)      # BEST!\n",
    "    x=targetP3s_equal[s]\n",
    "    x=np.std(x,axis=0)\n",
    "    x=moving_average(x, n=10)\n",
    "\n",
    "    plt.plot(peaks, x[peaks], \"ob\"); plt.plot(x); plt.legend(['prominence'])\n",
    "\n",
    "plt.show()"
   ]
  },
  {
   "cell_type": "code",
   "execution_count": null,
   "metadata": {},
   "outputs": [],
   "source": []
  },
  {
   "cell_type": "code",
   "execution_count": null,
   "metadata": {},
   "outputs": [],
   "source": []
  },
  {
   "cell_type": "code",
   "execution_count": null,
   "metadata": {},
   "outputs": [],
   "source": []
  },
  {
   "cell_type": "code",
   "execution_count": null,
   "metadata": {},
   "outputs": [],
   "source": []
  }
 ],
 "metadata": {
  "kernelspec": {
   "display_name": "Python 3",
   "language": "python",
   "name": "python3"
  },
  "language_info": {
   "codemirror_mode": {
    "name": "ipython",
    "version": 3
   },
   "file_extension": ".py",
   "mimetype": "text/x-python",
   "name": "python",
   "nbconvert_exporter": "python",
   "pygments_lexer": "ipython3",
   "version": "3.6.9"
  }
 },
 "nbformat": 4,
 "nbformat_minor": 4
}
