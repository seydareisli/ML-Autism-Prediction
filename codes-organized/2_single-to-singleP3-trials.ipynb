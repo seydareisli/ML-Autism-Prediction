{
 "cells": [
  {
   "cell_type": "code",
   "execution_count": null,
   "metadata": {},
   "outputs": [],
   "source": [
    "'''\n",
    "Script calculating the a P3 value from single trials for each channel (or for GFP)\n",
    "Generates a plot comparing the changes in amplitudes vs. in conditions over time\n",
    "'''"
   ]
  },
  {
   "cell_type": "code",
   "execution_count": 1,
   "metadata": {},
   "outputs": [],
   "source": [
    "import numpy as np\n",
    "import os\n",
    "import scipy.io as io\n",
    "import matplotlib.pyplot as plt\n",
    "from ms2time import ms2time\n",
    "\n",
    "\n",
    "def moving_average(a, n=3) :\n",
    "    ret = np.cumsum(a, dtype=float)\n",
    "    ret[n:] = ret[n:] - ret[:-n]\n",
    "    return ret[n - 1:] / n\n",
    "\n",
    "def find_outliers(data):\n",
    "    data_mean, data_std = np.mean(data), np.std(data)\n",
    "    cut_off = data_std * 3\n",
    "    lower, upper = data_mean - cut_off, data_mean + cut_off\n",
    "    outliers = [x for x in range(len(data)) if data[x] < lower or data[x] > upper]\n",
    "    return outliers\n"
   ]
  },
  {
   "cell_type": "code",
   "execution_count": 2,
   "metadata": {},
   "outputs": [],
   "source": [
    "directory_ = '/home/data/Project_ASD/clean-trials/'\n",
    "directory_ = '/home/data/Project_ASD/3Dmat4ML/'\n",
    "groups = ['Autism', 'Neurotypical']\n",
    "baseMethods=['','baseline50','baseline100']\n",
    "baseMethod=baseMethods[1]\n",
    "targetcodes=[13,16,23,26,33,36,43,46]\n"
   ]
  },
  {
   "cell_type": "code",
   "execution_count": 3,
   "metadata": {},
   "outputs": [],
   "source": [
    "subjects=np.empty((0,3),int) # group ind, subject ind, subject ID - e.g.['0' '5' '1888']\n",
    "\n",
    "s=0\n",
    "for g in range((len(groups))):\n",
    "    list_gsubj = list(os.listdir(directory_+'/'+groups[g]))\n",
    "    for subject in list_gsubj:\n",
    "        if subject[0]=='1':\n",
    "            subjects = np.append(subjects,[[g,s,subject]], axis=0)\n",
    "            s+=1\n",
    "n_subj=subjects.shape[0]"
   ]
  },
  {
   "cell_type": "code",
   "execution_count": 5,
   "metadata": {},
   "outputs": [
    {
     "name": "stdout",
     "output_type": "stream",
     "text": [
      "11354.mat\n",
      "1134.mat\n",
      "1190.mat\n",
      "11913.mat\n"
     ]
    },
    {
     "name": "stderr",
     "output_type": "stream",
     "text": [
      "/home/seyda/.local/lib/python3.6/site-packages/numpy/core/_methods.py:151: RuntimeWarning: invalid value encountered in reduce\n",
      "  ret = umr_sum(arr, axis, dtype, out, keepdims)\n",
      "/home/seyda/.local/lib/python3.6/site-packages/ipykernel_launcher.py:12: RuntimeWarning: invalid value encountered in subtract\n",
      "  if sys.path[0] == '':\n",
      "/home/seyda/.local/lib/python3.6/site-packages/ipykernel_launcher.py:12: RuntimeWarning: overflow encountered in subtract\n",
      "  if sys.path[0] == '':\n"
     ]
    },
    {
     "name": "stdout",
     "output_type": "stream",
     "text": [
      "1160.mat\n",
      "1179.mat\n",
      "11160.mat\n",
      "1838.mat\n",
      "1132.mat\n",
      "11723.mat\n",
      "11076.mat\n",
      "1888.mat\n",
      "11673.mat\n",
      "1106.mat\n",
      "11051.mat\n",
      "11275.mat\n",
      "1108.mat\n",
      "11750.mat\n",
      "1154.mat\n",
      "1174.mat\n",
      "11977.mat\n",
      "12778.mat\n",
      "12727.mat\n",
      "12694.mat\n",
      "12413.mat\n",
      "10369.mat\n",
      "10438.mat\n",
      "12516.mat\n",
      "12005.mat\n",
      "10257.mat\n",
      "12360.mat\n",
      "12497.mat\n",
      "10056.mat\n",
      "12563.mat\n",
      "10594.mat\n",
      "10545.mat\n",
      "12433.mat\n",
      "12328.mat\n",
      "12562.mat\n",
      "12443.mat\n",
      "12512.mat\n",
      "10585.mat\n",
      "12386.mat\n",
      "10049.mat\n",
      "12414.mat\n"
     ]
    }
   ],
   "source": [
    "\n",
    "targetP3s = np.zeros((n_subj,2), dtype=object)\n",
    "for g,s,subject in subjects:\n",
    "\n",
    "    subjectData = io.loadmat(directory_+groups[int(g)]+'/'+subject)\n",
    "    conds = subjectData['evConds']\n",
    "    events = subjectData['events']\n",
    "    ERPs = subjectData['ERPs'].astype('float16') \n",
    "    preStim= subjectData['preStim'].astype('float16')\n",
    "    baseline= np.mean(preStim,1)\n",
    "    ERPs_nobase=np.zeros((122,160,ERPs.shape[2]),dtype=object)\n",
    "    for t in range(122):\n",
    "        ERPs_nobase[t]=np.take(ERPs, t, axis=1)-baseline\n",
    "                \n",
    "    ind_target = [] \n",
    "    for i in range(0, len(events[0])) : \n",
    "        if events[0,i] in targetcodes : \n",
    "            ind_target.append(i) \n",
    "    ERPs=np.array(ERPs, dtype=np.float64)\n",
    "    targERPs=np.take(ERPs,ind_target,axis=2)\n",
    "    targP3s=np.take(targERPs,ms2time(250,400),axis=1)\n",
    "    targP3s=np.mean(targP3s,axis=1)\n",
    "    targetP3s[int(s),0]=targP3s\n",
    "\n",
    "    targConds=np.take(conds,ind_target,axis=1)\n",
    "    targConds=np.squeeze(targConds)\n",
    "    targetP3s[int(s),1]=targConds\n",
    "\n",
    "    print(subject)\n",
    "\n"
   ]
  },
  {
   "cell_type": "code",
   "execution_count": 6,
   "metadata": {},
   "outputs": [],
   "source": [
    "#Save your results \n",
    "directory = '/home/data/Project_ASD/' + os.environ[\"USER\"]+'/' #feel free to upload data from /Project_ASD/seyda\n",
    "#np.savez(directory+'targetP3s.npz', targetP3s=targetP3s, subjects=subjects)\n"
   ]
  }
 ],
 "metadata": {
  "kernelspec": {
   "display_name": "Python 3",
   "language": "python",
   "name": "python3"
  },
  "language_info": {
   "codemirror_mode": {
    "name": "ipython",
    "version": 3
   },
   "file_extension": ".py",
   "mimetype": "text/x-python",
   "name": "python",
   "nbconvert_exporter": "python",
   "pygments_lexer": "ipython3",
   "version": "3.6.9"
  }
 },
 "nbformat": 4,
 "nbformat_minor": 4
}
