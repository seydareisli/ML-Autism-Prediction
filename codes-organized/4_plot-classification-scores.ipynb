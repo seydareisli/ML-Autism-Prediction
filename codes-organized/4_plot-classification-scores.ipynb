{
 "cells": [
  {
   "cell_type": "code",
   "execution_count": null,
   "metadata": {},
   "outputs": [],
   "source": [
    "import seaborn as sns #pip3 install seaborn\n",
    "from datetime import date\n",
    "import matplotlib.pyplot as plt\n",
    "    \n",
    "def errorfill(x, y, yerr, color=None, label=None, alpha_fill=0.3, ax=None):\n",
    "    ax = ax if ax is not None else plt.gca()\n",
    "    if color is None:\n",
    "        color = ax._get_lines.get_next_color()\n",
    "    if np.isscalar(yerr) or len(yerr) == len(y):\n",
    "        ymin = y - yerr\n",
    "        ymax = y + yerr\n",
    "    elif len(yerr) == 2:\n",
    "        ymin, ymax = yerr\n",
    "    ax.plot(x, y, color=color, label=label)\n",
    "    ax.fill_between(x, ymax, ymin, color=color, label=label, alpha=alpha_fill)\n",
    "    return ax"
   ]
  },
  {
   "cell_type": "code",
   "execution_count": null,
   "metadata": {},
   "outputs": [],
   "source": [
    "directory = '/home/data/Project_ASD/' + os.environ[\"USER\"]+'/results'\n",
    "files=['results-8x1','results-8x4'] \n",
    "filename = files[f]+'-'+'.npz'\n",
    "\n",
    "data = np.load(directory+filename, allow_pickle=True)\n",
    "\n",
    "search_all=data['search_all']\n",
    "bestScores=data['bestScores']\n"
   ]
  },
  {
   "cell_type": "code",
   "execution_count": null,
   "metadata": {},
   "outputs": [],
   "source": [
    "# Combine results from 8x4 and 8x1 results together into 8x5\n",
    "\n",
    "bestScores=np.zeros((n_trtype,n_conds+1),dtype=int)\n",
    "best_c=np.zeros((n_trtype,n_conds+1),dtype=float)\n",
    "best_nPCA=np.zeros((n_trtype,n_conds+1),dtype=int)\n",
    "\n",
    "for i in range(n_trtype):\n",
    "    for j in range(n_conds):\n",
    "        bestScores[i,j] = search_8x4[i,j].best_score_*100\n",
    "        best_c[i,j]=search_8x4[i,j].best_params_['clf__C']\n",
    "        best_nPCA[i,j]=search_8x4[i,j].best_params_['pca__n_components']\n",
    "        \n",
    "    bestScores[i,j+1] = search_8x1[i].best_score_*100\n",
    "    best_c[i,j+1]=search_8x1[i].best_params_['clf__C']\n",
    "    best_nPCA[i,j+1]=search_8x1[i].best_params_['pca__n_components']\n"
   ]
  },
  {
   "cell_type": "code",
   "execution_count": null,
   "metadata": {},
   "outputs": [],
   "source": [
    "# Plot best scores and parameters \n",
    "run_identifier=clf_key_8x4+'+'+clf_key_8x1+'-pca'+str(param_grid['pca__n_components'].shape[0])+'-C'+str(param_grid['clf__C'].shape[0])+'-'+str(X.shape[1])+'features'\n",
    "conds=['C1','C2','C3','C4','C all']\n",
    "\n",
    "fig = plt.figure(figsize=(4,5))\n",
    "r = sns.heatmap(bestScores, cmap='BuPu',vmin=45, vmax=85,xticklabels=conds,yticklabels=trialTypes)\n",
    "r.set_title(\"Heatmap of best scores\")\n",
    "plt.savefig(save_dir+'heatmap-best-scores-'+run_identifier+'.png')\n",
    "\n",
    "fig = plt.figure(figsize=(4,5))\n",
    "r = sns.heatmap(best_nPCA, cmap='BuPu',xticklabels=conds,yticklabels=trialTypes)\n",
    "r.set_title(\"Heatmap of best n_pca\")\n",
    "plt.savefig(save_dir+'heatmap-best-npc-'+run_identifier+'.png')\n",
    "\n",
    "fig = plt.figure(figsize=(4,5))\n",
    "r = sns.heatmap(best_c, cmap='BuPu',xticklabels=conds,yticklabels=trialTypes)\n",
    "r.set_title(\"Heatmap of best c\")\n",
    "plt.savefig(save_dir+'heatmap-best-c-'+run_identifier+'.png')\n"
   ]
  },
  {
   "cell_type": "code",
   "execution_count": null,
   "metadata": {},
   "outputs": [],
   "source": [
    "fig, ax = plt.subplots(n_trtype,n_conds,figsize=(n_conds*2,n_trtype*2),sharey=True,sharex=True)\n",
    "for i in range(n_trtype):\n",
    "    for j in range(n_conds):\n",
    "        #print(\"Best parameter (CV score=%0.3f):\" % search_all[i,j].best_score_)\n",
    "        #print(search_all[i,j].best_params_)\n",
    "        clf_key_8x4='LR-L2'\n",
    "        if clf_key_8x4 in ['LR-L1','LR-L2']:\n",
    "            for k in range(test_C.shape[0]):\n",
    "                errorfill(test_pca,search_8x4[i,j].\n",
    "                          cv_results_['mean_test_score']\n",
    "                          .reshape(test_C.shape[0],test_pca.shape[0])[k].T,\n",
    "                          search_8x4[i,j].cv_results_['std_test_score']\n",
    "                          .reshape(test_C.shape[0],test_pca.shape[0])[k].T\n",
    "                              /np.sqrt(5), ax=ax[i,j])\n",
    "                ax[i,j].set_ylim(0.45,0.85)\n",
    "                ax[i,j].title.set_text(trialTypes[i]+' '+'Cond'+str(j+1))\n",
    "            \n",
    "        else:\n",
    "            errorfill(test_pca,search_8x4[i,j].cv_results_['mean_test_score'],\n",
    "                      search_8x4[i,j].cv_results_['std_test_score']/np.sqrt(5),\n",
    "                      ax=ax[i,j])    \n",
    "        ax[i,j].set_ylim(0.45,0.85)\n",
    "        \n",
    "plt.savefig(save_dir+'fig-scores-8x4-'+run_8x4_identifier+'.png')\n"
   ]
  },
  {
   "cell_type": "code",
   "execution_count": null,
   "metadata": {},
   "outputs": [],
   "source": [
    "fig, ax = plt.subplots(1, n_trtype, figsize=(12,3))\n",
    "for i in range(n_trtype):\n",
    "    #print(\"Best parameter (CV score=%0.3f):\" % search_8x1[i].best_score_)\n",
    "    #print(search_8x1[i].best_params_)\n",
    "    for k in range(test_pca.shape[0]):\n",
    "        errorfill(test_C,search_8x1[i].\n",
    "                  cv_results_['mean_test_score']\n",
    "                  .reshape(test_C.shape[0],test_pca.shape[0])[:,k],\n",
    "                  search_8x1[i].cv_results_['std_test_score']\n",
    "                  .reshape(test_C.shape[0],test_pca.shape[0])[:,k]/np.sqrt(5),\n",
    "                  ax=ax[i])\n",
    "\n",
    "    ax[i].set_xscale('log')\n",
    "    ax[i].set_ylim(0.45,0.85)\n",
    "    ax[i].title.set_text(trialTypes[i])\n",
    "    \n",
    "plt.savefig(save_dir+'fig-scores-8x1-'+run_8x1_identifier+'.png')\n"
   ]
  },
  {
   "cell_type": "code",
   "execution_count": null,
   "metadata": {},
   "outputs": [],
   "source": [
    "for i in range(n_trtype):\n",
    "    #print(np.abs(search_l1_all[i].best_estimator_['clf'].coef_))\n",
    "    print(np.sum(np.abs(search_8x1[i].best_estimator_['clf'].coef_)>0.5e-2))\n",
    "    plt.plot(search_8x1[i].best_estimator_['clf'].coef_.T)"
   ]
  },
  {
   "cell_type": "code",
   "execution_count": null,
   "metadata": {},
   "outputs": [],
   "source": []
  },
  {
   "cell_type": "code",
   "execution_count": null,
   "metadata": {},
   "outputs": [],
   "source": []
  },
  {
   "cell_type": "code",
   "execution_count": null,
   "metadata": {},
   "outputs": [],
   "source": []
  },
  {
   "cell_type": "code",
   "execution_count": null,
   "metadata": {},
   "outputs": [],
   "source": []
  },
  {
   "cell_type": "code",
   "execution_count": null,
   "metadata": {},
   "outputs": [],
   "source": []
  }
 ],
 "metadata": {
  "kernelspec": {
   "display_name": "Python 3",
   "language": "python",
   "name": "python3"
  },
  "language_info": {
   "codemirror_mode": {
    "name": "ipython",
    "version": 3
   },
   "file_extension": ".py",
   "mimetype": "text/x-python",
   "name": "python",
   "nbconvert_exporter": "python",
   "pygments_lexer": "ipython3",
   "version": "3.6.9"
  }
 },
 "nbformat": 4,
 "nbformat_minor": 4
}
