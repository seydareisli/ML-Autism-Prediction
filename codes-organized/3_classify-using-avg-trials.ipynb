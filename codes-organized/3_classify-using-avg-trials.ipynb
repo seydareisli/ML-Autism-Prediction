{
 "cells": [
  {
   "cell_type": "code",
   "execution_count": null,
   "metadata": {},
   "outputs": [],
   "source": [
    "import numpy as np\n",
    "import scipy.io as io\n",
    "import pandas as pd\n",
    "import sys\n",
    "\n",
    "import os\n",
    "os.environ['OMP_NUM_THREADS'] = '1'\n",
    "os.environ['OPENBLAS_NUM_THREADS'] = '1'\n",
    "os.environ['MKL_NUM_THREADS'] = '1'\n",
    "os.environ['VECLIB_MAXIMUM_THREADS'] = '1'\n",
    "os.environ['NUMEXPR_NUM_THREADS'] = '1'\n",
    "\n",
    "from sklearn import datasets\n",
    "from sklearn.decomposition import PCA\n",
    "from sklearn.linear_model import LogisticRegression\n",
    "from sklearn.discriminant_analysis import LinearDiscriminantAnalysis\n",
    "from sklearn.discriminant_analysis import QuadraticDiscriminantAnalysis\n",
    "from sklearn.pipeline import Pipeline\n",
    "from sklearn.model_selection import GridSearchCV\n",
    "from sklearn.model_selection import GroupKFold, StratifiedKFold\n"
   ]
  },
  {
   "cell_type": "code",
   "execution_count": null,
   "metadata": {},
   "outputs": [],
   "source": [
    "X_all = data['X_all'] #n_trtype, n_conds,n_subj, n_time, n_elec \n",
    "subjects = data['subjects']\n",
    "n_trtype, n_conds,n_subj, n_time, n_elec = X_all.shape\n"
   ]
  },
  {
   "cell_type": "code",
   "execution_count": null,
   "metadata": {},
   "outputs": [],
   "source": [
    "test_pca1 = np.array([32])#np.arange(5,38,5)#np.array([15,38])#\n",
    "test_pca2 = np.arange(2,n_subj,3) \n",
    "test_pca3 = np.array([15,38])\n",
    "\n",
    "test_C1 =np.logspace(-5, 0, 6)\n",
    "test_C2=np.logspace(-3, 0, 21)  #-3, 0, 41) \n"
   ]
  },
  {
   "cell_type": "code",
   "execution_count": null,
   "metadata": {},
   "outputs": [],
   "source": [
    "pca = PCA()\n",
    "test_pca=test_pca2\n",
    "test_C=test_C2\n",
    "\n",
    "clfs={}\n",
    "\n",
    "clfs['LR-L2']= LogisticRegression(max_iter=5000, tol=1.0) #default=’l2’\n",
    "clfs['LR-L1']= LogisticRegression(penalty='l1', solver='liblinear', max_iter=5000, tol=1.0)\n",
    "clfs['LDA']=  LinearDiscriminantAnalysis(tol=1e-3)\n",
    "clfs['QDA'] = QuadraticDiscriminantAnalysis(tol=1e-3)\n"
   ]
  },
  {
   "cell_type": "code",
   "execution_count": null,
   "metadata": {},
   "outputs": [],
   "source": [
    "clf_key_8x4='LR-L2'\n",
    "pipe_8x4 = Pipeline(steps=[('pca', pca), ('clf', clfs[clf_key_8x4])])\n",
    "\n",
    "clf_key_8x1='LR-L2'\n",
    "pipe_8x1 = Pipeline(steps=[('pca', pca), ('clf', clfs[clf_key_8x1])])\n",
    "\n",
    "param_grid = {'pca__n_components': test_pca,'clf__C': test_C}\n",
    "\n",
    "print('Testing '+ str(param_grid['pca__n_components'].shape[0]) +' different n_pca and '+str(param_grid['clf__C'].shape[0]) +' regularization parameters')\n"
   ]
  },
  {
   "cell_type": "code",
   "execution_count": null,
   "metadata": {},
   "outputs": [],
   "source": [
    "y=subjects[...,0]"
   ]
  },
  {
   "cell_type": "code",
   "execution_count": null,
   "metadata": {},
   "outputs": [],
   "source": [
    "search_8x4 = np.zeros((n_trtype,n_conds), dtype=object)\n",
    "for i in range(n_trtype):\n",
    "    for j in range(n_conds):\n",
    "        X = X_all[i,j].reshape(n_subj,n_time*n_elec)**2        \n",
    "        #X -= X.mean(0, keepdims=True)\n",
    "        # /= X.std(0, keepdims=True)\n",
    "        search_8x4[i,j] = GridSearchCV(pipe_8x4, param_grid, cv=5, n_jobs=15, verbose=0)\n",
    "        search_8x4[i,j].fit(X, y);\n",
    "        verbose('%i,%i'%(i,j))\n",
    "\n",
    "run_8x4_identifier=clf_key_8x4+'-pca'+str(param_grid['pca__n_components'].shape[0])+'-C'+str(param_grid['clf__C'].shape[0])+'-'+str(X.shape[1])+'features'\n",
    "save_name='results-8x4-'+baseMethod+'-'+run_8x4_identifier+'.npz'  #date.today().strftime('--%d-%m-%Y')\n",
    "np.savez(save_dir+save_name,search_8x4=search_8x4)\n"
   ]
  },
  {
   "cell_type": "code",
   "execution_count": null,
   "metadata": {},
   "outputs": [],
   "source": [
    "search_8x1 = np.zeros(n_trtype, dtype=object)\n",
    "for i in range(n_trtype):\n",
    "    X = X_all[i].reshape(n_subj,n_time*n_elec*n_conds)\n",
    "    search_8x1[i] = GridSearchCV(pipe_8x1, param_grid, cv=5, n_jobs=15, verbose=0)\n",
    "    search_8x1[i].fit(X, y);\n",
    "    verbose('%i'%(i))\n",
    "\n",
    "run_8x1_identifier=clf_key_8x1+'-pca'+str(param_grid['pca__n_components'].shape[0])+'-C'+str(param_grid['clf__C'].shape[0])+'-'+str(X.shape[1])+'features'\n",
    "save_name='results-8x1-'+baseMethod+'-'+run_8x1_identifier+'.npz'  #date.today().strftime('--%d-%m-%Y')\n",
    "np.savez(save_dir+save_name,search_8x1=search_8x1)\n",
    "    "
   ]
  },
  {
   "cell_type": "code",
   "execution_count": null,
   "metadata": {},
   "outputs": [],
   "source": []
  },
  {
   "cell_type": "code",
   "execution_count": null,
   "metadata": {},
   "outputs": [],
   "source": []
  },
  {
   "cell_type": "code",
   "execution_count": null,
   "metadata": {},
   "outputs": [],
   "source": []
  },
  {
   "cell_type": "code",
   "execution_count": null,
   "metadata": {},
   "outputs": [],
   "source": []
  }
 ],
 "metadata": {
  "kernelspec": {
   "display_name": "Python 3",
   "language": "python",
   "name": "python3"
  },
  "language_info": {
   "codemirror_mode": {
    "name": "ipython",
    "version": 3
   },
   "file_extension": ".py",
   "mimetype": "text/x-python",
   "name": "python",
   "nbconvert_exporter": "python",
   "pygments_lexer": "ipython3",
   "version": "3.6.9"
  }
 },
 "nbformat": 4,
 "nbformat_minor": 4
}
