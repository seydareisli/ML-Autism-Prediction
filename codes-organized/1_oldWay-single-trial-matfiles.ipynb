{
 "cells": [
  {
   "cell_type": "code",
   "execution_count": null,
   "metadata": {},
   "outputs": [],
   "source": [
    "#By JV \n",
    "\n",
    "\"\"\"\n",
    "Saving conditions separately and labeling asd vs typical \n",
    "groups are here to perform cross-validation by excluding participants\n",
    "and not trial at random: we like te predict asd or not for individuals.\n",
    "\"\"\"\n",
    "ERPs = np.zeros((4), dtype=object)\n",
    "groups = np.zeros((4), dtype=object) \n",
    "asd = np.zeros((4), dtype=object)\n",
    "\n",
    "for i in range(4):\n",
    "    for j in range(n_asd):\n",
    "        conds = dat_asd[j]['evConds'][0]==i+1\n",
    "        if j == 0:\n",
    "            ERPs[i] = dat_asd[j]['ERPs'][:,:,conds]\n",
    "            groups[i] = j*np.ones(conds.sum())\n",
    "            asd[i] = np.ones(conds.sum())\n",
    "        else:\n",
    "            ERPs[i] = np.concatenate((ERPs[i],dat_asd[j]['ERPs'][:,:,conds]),\n",
    "                                     axis=2)\n",
    "            groups[i] = np.concatenate((groups[i],j*np.ones(conds.sum())))\n",
    "            asd[i] = np.concatenate((asd[i], np.ones(conds.sum())))\n",
    "            \n",
    "    for j in range(n_typical):\n",
    "        conds = dat_typical[j]['evConds'][0]==i+1\n",
    "        ERPs[i] = np.concatenate((ERPs[i],dat_typical[j]['ERPs'][:,:,conds]),\n",
    "                                 axis=2)\n",
    "        groups[i] = np.concatenate((groups[i],(n_asd+j)*np.ones(conds.sum())))\n",
    "        asd[i] = np.concatenate((asd[i], np.zeros(conds.sum())))"
   ]
  },
  {
   "cell_type": "code",
   "execution_count": null,
   "metadata": {},
   "outputs": [],
   "source": [
    "save_directory= '/home/data/Project_ASD/' + os.environ[\"USER\"]\n",
    "np.savez(save_directory+'ERPs.npz', ERPs_C0=ERPs[0], ERPs_C1=ERPs[1], ERPs_C2=ERPs[2],\n",
    "         ERPs_C3=ERPs[3], groups=groups, asd=asd)"
   ]
  }
 ],
 "metadata": {
  "kernelspec": {
   "display_name": "Python 3",
   "language": "python",
   "name": "python3"
  },
  "language_info": {
   "codemirror_mode": {
    "name": "ipython",
    "version": 3
   },
   "file_extension": ".py",
   "mimetype": "text/x-python",
   "name": "python",
   "nbconvert_exporter": "python",
   "pygments_lexer": "ipython3",
   "version": "3.6.9"
  }
 },
 "nbformat": 4,
 "nbformat_minor": 4
}
