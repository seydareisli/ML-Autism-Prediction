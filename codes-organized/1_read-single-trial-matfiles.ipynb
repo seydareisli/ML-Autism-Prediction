{
 "cells": [
  {
   "cell_type": "code",
   "execution_count": 6,
   "metadata": {},
   "outputs": [],
   "source": [
    "import numpy as np\n",
    "import os\n",
    "import scipy.io as io\n",
    "from IPython.display import clear_output"
   ]
  },
  {
   "cell_type": "code",
   "execution_count": 2,
   "metadata": {},
   "outputs": [],
   "source": [
    "directory_ = '/home/data/Project_ASD/clean-trials/'\n",
    "groups = ['Autism', 'Neurotypical']\n",
    "baseMethods=['','baseline50','baseline100']\n",
    "baseMethod=baseMethods[1]"
   ]
  },
  {
   "cell_type": "code",
   "execution_count": 3,
   "metadata": {},
   "outputs": [],
   "source": [
    "subjects=np.empty((0,3),int) # group ind, subject ind, subject ID - e.g.['0' '5' '1888']\n",
    "\n",
    "s=0\n",
    "for g in range((len(groups))):\n",
    "    list_gsubj = list(os.listdir(directory_+'/'+groups[g]))\n",
    "    for subject in list_gsubj:\n",
    "        if subject[0]=='1':\n",
    "            subjects = np.append(subjects,[[g,s,subject]], axis=0)\n",
    "            s+=1\n",
    "n_subj=subjects.shape[0]"
   ]
  },
  {
   "cell_type": "code",
   "execution_count": 22,
   "metadata": {},
   "outputs": [
    {
     "name": "stdout",
     "output_type": "stream",
     "text": [
      "39 3 7\n"
     ]
    }
   ],
   "source": [
    "trialTypes=['item1','item2','target','invalidThird','correct','catch','easyFiller','ctrlFiller'];\n",
    "#trialTypes=['target'];\n",
    "\n",
    "ERPs = np.zeros((n_subj,len(trialTypes),4), dtype=object)\n",
    "\n",
    "for g,s,subject in subjects:\n",
    "    for j in range(4):\n",
    "        for k in range(len(trialTypes)):        \n",
    "            print(s, j, k)\n",
    "            file_name = trialTypes[k]+'-C'+str(j+1)+'.mat'\n",
    "            file_path = os.path.join(directory_,groups[int(g)],subject,'divided')\n",
    "            load_ = io.loadmat(file_path+'/'+file_name)\n",
    "            data=load_['data'].astype('float16')  # itemsize reduces to half.  data1.itemsize/data.itemsize\n",
    "            baseline=load_[baseMethod].astype('float16') \n",
    "            data_nobase=np.zeros((122,160,data.shape[2]),dtype=object)\n",
    "            for t in range(122):\n",
    "                data_nobase[t]=np.take(data, t, axis=1)-baseline\n",
    "            ERPs[int(s),k,j]=data_nobase\n",
    "            clear_output(wait=True)"
   ]
  },
  {
   "cell_type": "code",
   "execution_count": 23,
   "metadata": {},
   "outputs": [],
   "source": [
    "save_directory= '/home/data/Project_ASD/' + os.environ[\"USER\"]\n",
    "np.savez(save_directory+'/ERPs-'+baseMethod+'float16.npz',ERPs=ERPs,subjects=subjects)"
   ]
  }
 ],
 "metadata": {
  "kernelspec": {
   "display_name": "Python 3",
   "language": "python",
   "name": "python3"
  },
  "language_info": {
   "codemirror_mode": {
    "name": "ipython",
    "version": 3
   },
   "file_extension": ".py",
   "mimetype": "text/x-python",
   "name": "python",
   "nbconvert_exporter": "python",
   "pygments_lexer": "ipython3",
   "version": "3.6.9"
  }
 },
 "nbformat": 4,
 "nbformat_minor": 4
}
