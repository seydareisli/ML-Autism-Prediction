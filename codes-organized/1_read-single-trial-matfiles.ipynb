{
 "cells": [
  {
   "cell_type": "code",
   "execution_count": 1,
   "metadata": {},
   "outputs": [],
   "source": [
    "import numpy as np\n",
    "import os\n",
    "import scipy.io as io"
   ]
  },
  {
   "cell_type": "code",
   "execution_count": 2,
   "metadata": {},
   "outputs": [],
   "source": [
    "directory_ = '/home/data/Project_ASD/clean-trials/'\n",
    "groups = ['Autism', 'Neurotypical']\n",
    "baseMethods=['','baseline50','baseline100']\n",
    "baseMethod=baseMethods[1]"
   ]
  },
  {
   "cell_type": "code",
   "execution_count": 3,
   "metadata": {},
   "outputs": [],
   "source": [
    "subjects=np.empty((0,3),int) # group ind, subject ind, subject ID - e.g.['0' '5' '1888']\n",
    "\n",
    "s=0\n",
    "for g in range((len(groups))):\n",
    "    list_gsubj = list(os.listdir(directory_+'/'+groups[g]))\n",
    "    for subject in list_gsubj:\n",
    "        if subject[0]=='1':\n",
    "            subjects = np.append(subjects,[[g,s,subject]], axis=0)\n",
    "            s+=1\n",
    "n_subj=subjects.shape[0]"
   ]
  },
  {
   "cell_type": "code",
   "execution_count": 14,
   "metadata": {},
   "outputs": [
    {
     "name": "stdout",
     "output_type": "stream",
     "text": [
      "0\n",
      "1\n",
      "2\n",
      "3\n",
      "0\n",
      "1\n",
      "2\n",
      "3\n",
      "0\n",
      "1\n",
      "2\n",
      "3\n",
      "0\n",
      "1\n",
      "2\n",
      "3\n",
      "0\n",
      "1\n",
      "2\n",
      "3\n",
      "0\n",
      "1\n",
      "2\n",
      "3\n",
      "0\n"
     ]
    },
    {
     "name": "stderr",
     "output_type": "stream",
     "text": [
      "/home/seyda/.local/lib/python3.6/site-packages/ipykernel_launcher.py:20: RuntimeWarning: overflow encountered in subtract\n"
     ]
    },
    {
     "name": "stdout",
     "output_type": "stream",
     "text": [
      "1\n",
      "2\n",
      "3\n",
      "0\n",
      "1\n",
      "2\n",
      "3\n",
      "0\n",
      "1\n",
      "2\n",
      "3\n",
      "0\n",
      "1\n",
      "2\n",
      "3\n",
      "0\n",
      "1\n",
      "2\n",
      "3\n",
      "0\n",
      "1\n",
      "2\n",
      "3\n",
      "0\n",
      "1\n",
      "2\n",
      "3\n",
      "0\n",
      "1\n",
      "2\n",
      "3\n",
      "0\n",
      "1\n",
      "2\n",
      "3\n",
      "0\n",
      "1\n",
      "2\n",
      "3\n",
      "0\n",
      "1\n",
      "2\n",
      "3\n",
      "0\n",
      "1\n",
      "2\n",
      "3\n",
      "0\n",
      "1\n",
      "2\n",
      "3\n",
      "0\n",
      "1\n",
      "2\n",
      "3\n",
      "0\n",
      "1\n",
      "2\n",
      "3\n",
      "0\n",
      "1\n",
      "2\n",
      "3\n",
      "0\n",
      "1\n",
      "2\n",
      "3\n",
      "0\n",
      "1\n",
      "2\n",
      "3\n",
      "0\n",
      "1\n",
      "2\n",
      "3\n",
      "0\n",
      "1\n",
      "2\n",
      "3\n",
      "0\n",
      "1\n",
      "2\n",
      "3\n",
      "0\n",
      "1\n",
      "2\n",
      "3\n",
      "0\n",
      "1\n",
      "2\n",
      "3\n",
      "0\n",
      "1\n",
      "2\n",
      "3\n",
      "0\n",
      "1\n",
      "2\n",
      "3\n",
      "0\n",
      "1\n",
      "2\n",
      "3\n",
      "0\n",
      "1\n",
      "2\n",
      "3\n",
      "0\n",
      "1\n",
      "2\n",
      "3\n",
      "0\n",
      "1\n",
      "2\n",
      "3\n",
      "0\n",
      "1\n",
      "2\n",
      "3\n",
      "0\n",
      "1\n",
      "2\n",
      "3\n",
      "0\n",
      "1\n",
      "2\n",
      "3\n",
      "0\n",
      "1\n",
      "2\n",
      "3\n",
      "0\n",
      "1\n",
      "2\n",
      "3\n"
     ]
    }
   ],
   "source": [
    "trialTypes=['item1','item2','target','invalidThird','correct','catch','easyFiller','ctrlFiller'];\n",
    "trialTypes=['target'];\n",
    "\n",
    "ERPs = np.zeros((n_subj,len(trialTypes),4), dtype=object)\n",
    "\n",
    "for g,s,subject in subjects:\n",
    "    # print(\"starting subject \"+ subject)\n",
    "    for j in range(4):\n",
    "        print(j)\n",
    "        for k in range(len(trialTypes)):\n",
    "            file_name = trialTypes[k]+'-C'+str(j+1)+'.mat'\n",
    "            file_path = os.path.join(directory_,groups[int(g)],subject,'divided')\n",
    "            load_ = io.loadmat(file_path+'/'+file_name)\n",
    "            data=load_['data'] \n",
    "            data = data.astype('float16')  # itemsize reduces to half.  data1.itemsize/data.itemsize\n",
    "            baseline=load_[baseMethod]#[:,np.newaxis] \n",
    "            baseline = baseline.astype('float16') \n",
    "            data_nobase=np.zeros((122,160,data.shape[2]),dtype=object)\n",
    "            for t in range(122):\n",
    "                data_nobase[t]=np.take(data, t, axis=1)-baseline\n",
    "            ERPs[int(s),k,j]=data_nobase\n"
   ]
  },
  {
   "cell_type": "code",
   "execution_count": 21,
   "metadata": {},
   "outputs": [],
   "source": [
    "save_directory= '/home/data/Project_ASD/' + os.environ[\"USER\"]\n",
    "np.savez(save_directory+'/ERPs-'+baseMethod+'float16.npz',ERPs=ERPs,subjects=subjects)"
   ]
  },
  {
   "cell_type": "code",
   "execution_count": 7,
   "metadata": {},
   "outputs": [],
   "source": []
  },
  {
   "cell_type": "code",
   "execution_count": 10,
   "metadata": {},
   "outputs": [
    {
     "data": {
      "text/plain": [
       "0.5"
      ]
     },
     "execution_count": 10,
     "metadata": {},
     "output_type": "execute_result"
    }
   ],
   "source": [
    "\n"
   ]
  },
  {
   "cell_type": "code",
   "execution_count": null,
   "metadata": {},
   "outputs": [],
   "source": []
  },
  {
   "cell_type": "code",
   "execution_count": null,
   "metadata": {},
   "outputs": [],
   "source": [
    "# dat_asd[0,0,0].shape"
   ]
  },
  {
   "cell_type": "code",
   "execution_count": null,
   "metadata": {},
   "outputs": [],
   "source": [
    "# for i in range(4):\n",
    "#     print(dat_asd[0,0,i]['data'].shape)"
   ]
  },
  {
   "cell_type": "code",
   "execution_count": null,
   "metadata": {},
   "outputs": [],
   "source": [
    "# dat_asd[0,0,i]['baseline100']#.shape"
   ]
  },
  {
   "cell_type": "code",
   "execution_count": null,
   "metadata": {},
   "outputs": [],
   "source": [
    "# OLD\n",
    "\n",
    "\"\"\"\n",
    "Saving conditions separately and labeling asd vs typical \n",
    "groups are here to perform cross-validation by excluding participants\n",
    "and not trial at random: we like te predict asd or not for individuals.\n",
    "\"\"\"\n",
    "ERPs = np.zeros((4), dtype=object)\n",
    "groups = np.zeros((4), dtype=object) \n",
    "asd = np.zeros((4), dtype=object)\n",
    "\n",
    "for i in range(4):\n",
    "    for j in range(n_asd):\n",
    "        conds = dat_asd[j]['evConds'][0]==i+1\n",
    "        if j == 0:\n",
    "            ERPs[i] = dat_asd[j]['ERPs'][:,:,conds]\n",
    "            groups[i] = j*np.ones(conds.sum())\n",
    "            asd[i] = np.ones(conds.sum())\n",
    "        else:\n",
    "            ERPs[i] = np.concatenate((ERPs[i],dat_asd[j]['ERPs'][:,:,conds]),\n",
    "                                     axis=2)\n",
    "            groups[i] = np.concatenate((groups[i],j*np.ones(conds.sum())))\n",
    "            asd[i] = np.concatenate((asd[i], np.ones(conds.sum())))\n",
    "            \n",
    "    for j in range(n_typical):\n",
    "        conds = dat_typical[j]['evConds'][0]==i+1\n",
    "        ERPs[i] = np.concatenate((ERPs[i],dat_typical[j]['ERPs'][:,:,conds]),\n",
    "                                 axis=2)\n",
    "        groups[i] = np.concatenate((groups[i],(n_asd+j)*np.ones(conds.sum())))\n",
    "        asd[i] = np.concatenate((asd[i], np.zeros(conds.sum())))"
   ]
  },
  {
   "cell_type": "code",
   "execution_count": null,
   "metadata": {},
   "outputs": [],
   "source": [
    "save_directory= '/home/data/Project_ASD/' + os.environ[\"USER\"]\n",
    "np.savez(save_directory+'ERPs.npz', ERPs_C0=ERPs[0], ERPs_C1=ERPs[1], ERPs_C2=ERPs[2],\n",
    "         ERPs_C3=ERPs[3], groups=groups, asd=asd)"
   ]
  },
  {
   "cell_type": "code",
   "execution_count": null,
   "metadata": {},
   "outputs": [],
   "source": [
    "# help(np.savez)"
   ]
  },
  {
   "cell_type": "code",
   "execution_count": 22,
   "metadata": {},
   "outputs": [
    {
     "data": {
      "text/plain": [
       "6.358580534428827"
      ]
     },
     "execution_count": 22,
     "metadata": {},
     "output_type": "execute_result"
    }
   ],
   "source": [
    "42239427521/6642902027"
   ]
  },
  {
   "cell_type": "code",
   "execution_count": null,
   "metadata": {},
   "outputs": [],
   "source": []
  },
  {
   "cell_type": "code",
   "execution_count": null,
   "metadata": {},
   "outputs": [],
   "source": []
  }
 ],
 "metadata": {
  "kernelspec": {
   "display_name": "Python 3",
   "language": "python",
   "name": "python3"
  },
  "language_info": {
   "codemirror_mode": {
    "name": "ipython",
    "version": 3
   },
   "file_extension": ".py",
   "mimetype": "text/x-python",
   "name": "python",
   "nbconvert_exporter": "python",
   "pygments_lexer": "ipython3",
   "version": "3.6.9"
  }
 },
 "nbformat": 4,
 "nbformat_minor": 4
}
